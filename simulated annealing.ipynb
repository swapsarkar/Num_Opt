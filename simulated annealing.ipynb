{
 "cells": [
  {
   "cell_type": "code",
   "execution_count": 5,
   "id": "d526cdee",
   "metadata": {},
   "outputs": [],
   "source": [
    "import math\n",
    "import random\n",
    "import numpy as np\n",
    "import matplotlib.pyplot as plt\n",
    "from scipy.stats import expon\n",
    "from skopt import BayesSearchCV\n",
    "from skopt.space import Real, Integer\n",
    "from sklearn.datasets import make_classification\n",
    "from sklearn.model_selection import train_test_split\n",
    "from sklearn.metrics import make_scorer\n",
    "from scipy.optimize import minimize\n",
    "from sklearn.base import BaseEstimator"
   ]
  },
  {
   "cell_type": "code",
   "execution_count": 6,
   "id": "b6ef23a8",
   "metadata": {},
   "outputs": [],
   "source": [
    "def f(x,sigma=3.4,epsilon=0.997):\n",
    "    r = np.linalg.norm(x[0] - x[1])\n",
    "    return 4 * epsilon * ((sigma / r)**12 - (sigma / r)**6)"
   ]
  },
  {
   "cell_type": "code",
   "execution_count": 7,
   "id": "9b4bab59",
   "metadata": {},
   "outputs": [],
   "source": [
    "def Accept_val(delta,temp):\n",
    "    if(delta<0):\n",
    "        return True\n",
    "    elif(random.random() < math.exp(-delta / temp)):\n",
    "        return True\n",
    "    else:\n",
    "        return False"
   ]
  },
  {
   "cell_type": "code",
   "execution_count": 8,
   "id": "92857361",
   "metadata": {},
   "outputs": [],
   "source": [
    "def sim_anneal(initial_sol=None,Temp=300,cooling_rate=0.95,max_iter=1000):\n",
    "    if(initial_sol==None):\n",
    "        initial_sol = [random.uniform(-3,3) for i in range(2)]\n",
    "    current_sol = initial_sol\n",
    "    current_energy = f(current_sol)\n",
    "    best_sol = current_sol\n",
    "    best_energy = current_energy\n",
    "    best_store = [[best_energy,0]]\n",
    "    for i in range(max_iter):\n",
    "        new_sol = current_sol\n",
    "        new_sol[0] += random.uniform(-0.2,0.2)\n",
    "        new_sol[1] += random.uniform(-0.2,0.2)\n",
    "        new_energy = f(new_sol)\n",
    "        del_energy = new_energy - current_energy\n",
    "        if(Accept_val(delta=del_energy,temp=Temp)):\n",
    "            current_sol = new_sol\n",
    "            current_energy = new_energy\n",
    "            if(current_energy<best_energy):\n",
    "                best_sol = current_sol\n",
    "                best_energy = current_energy\n",
    "                best_store += [[best_energy,i]]\n",
    "        Temp *= cooling_rate\n",
    "    \n",
    "    return best_energy,best_sol,best_store"
   ]
  },
  {
   "cell_type": "code",
   "execution_count": 11,
   "id": "6cdff4cc",
   "metadata": {},
   "outputs": [
    {
     "data": {
      "image/png": "[encoded data removed]",
      "text/plain": [
       "<Figure size 640x480 with 1 Axes>"
      ]
     },
     "metadata": {},
     "output_type": "display_data"
    }
   ],
   "source": [
    "fun_val,best_sol,data=sim_anneal(Temp=300,cooling_rate=0.99,max_iter=5000)\n",
    "x = [row[1] for row in data]\n",
    "y = [row[0] for row in data]\n",
    "plt.plot(x,y)\n",
    "plt.show()"
   ]
  },
  {
   "cell_type": "code",
   "execution_count": 12,
   "id": "b4dc085d",
   "metadata": {},
   "outputs": [
    {
     "data": {
      "text/plain": [
       "[-5.733546232502259, 4.133833860459162]"
      ]
     },
     "execution_count": 12,
     "metadata": {},
     "output_type": "execute_result"
    }
   ],
   "source": [
    "best_sol"
   ]
  },
  {
   "cell_type": "code",
   "execution_count": 14,
   "id": "417768ca",
   "metadata": {},
   "outputs": [
    {
     "data": {
      "text/plain": [
       "9.86738009296142"
      ]
     },
     "execution_count": 14,
     "metadata": {},
     "output_type": "execute_result"
    }
   ],
   "source": [
    "-best_sol[0]+best_sol[1]"
   ]
  },
  {
   "cell_type": "code",
   "execution_count": 10,
   "id": "32b0d422",
   "metadata": {},
   "outputs": [
    {
     "name": "stdout",
     "output_type": "stream",
     "text": [
      "-0.9969999999839425\n",
      "-0.21050190522878917\n",
      "-0.9919306173341434\n"
     ]
    }
   ],
   "source": [
    "val_store = []\n",
    "for i in range(500):\n",
    "    fun_val,_,_ = sim_anneal(Temp=300,cooling_rate=0.99,max_iter=5000)\n",
    "    val_store += [fun_val] \n",
    "print(min(val_store))\n",
    "print(max(val_store))\n",
    "print(sum(val_store)/len(val_store))"
   ]
  },
  {
   "cell_type": "code",
   "execution_count": 54,
   "id": "f15e3c22",
   "metadata": {},
   "outputs": [],
   "source": [
    "X = [[random.uniform(-3, 3) for _ in range(2)] for _ in range(1000)]\n",
    "Y = [0] * len(X)"
   ]
  },
  {
   "cell_type": "code",
   "execution_count": 57,
   "id": "b872dfec",
   "metadata": {},
   "outputs": [],
   "source": [
    "param_space = {\n",
    "    'Temp': Real(1e-6, 1e3, prior='log-uniform'),\n",
    "    'cooling_rate': Real(0.5, 0.99),\n",
    "    'max_iter': Integer(10, 1000)\n",
    "}"
   ]
  },
  {
   "cell_type": "code",
   "execution_count": null,
   "id": "0615c70b",
   "metadata": {},
   "outputs": [],
   "source": []
  }
 ],
 "metadata": {
  "kernelspec": {
   "display_name": "Python 3 (ipykernel)",
   "language": "python",
   "name": "python3"
  },
  "language_info": {
   "codemirror_mode": {
    "name": "ipython",
    "version": 3
   },
   "file_extension": ".py",
   "mimetype": "text/x-python",
   "name": "python",
   "nbconvert_exporter": "python",
   "pygments_lexer": "ipython3",
   "version": "3.8.8"
  }
 },
 "nbformat": 4,
 "nbformat_minor": 5
}
