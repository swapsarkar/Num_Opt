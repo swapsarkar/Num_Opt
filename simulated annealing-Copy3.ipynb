{
 "cells": [
  {
   "cell_type": "code",
   "execution_count": 11,
   "id": "d526cdee",
   "metadata": {},
   "outputs": [],
   "source": [
    "import math\n",
    "import random\n",
    "import numpy as np\n",
    "import matplotlib.pyplot as plt\n",
    "from scipy.stats import expon\n",
    "from skopt import BayesSearchCV\n",
    "from skopt.space import Real, Integer\n",
    "from sklearn.datasets import make_classification\n",
    "from sklearn.model_selection import train_test_split\n",
    "from sklearn.metrics import make_scorer\n",
    "from scipy.optimize import minimize\n",
    "from sklearn.base import BaseEstimator"
   ]
  },
  {
   "cell_type": "code",
   "execution_count": 54,
   "id": "b6ef23a8",
   "metadata": {},
   "outputs": [],
   "source": [
    "def f(par1,par2,cost_mat):\n",
    "    edge_cos = 0\n",
    "    for i in par1:\n",
    "        for j in par2:\n",
    "            edge_cos += cost_mat[i][j]\n",
    "    imbal_cost = 2*abs(len(par1) - len(par2))\n",
    "    return edge_cos + imbal_cost"
   ]
  },
  {
   "cell_type": "code",
   "execution_count": 48,
   "id": "5be4d274",
   "metadata": {},
   "outputs": [
    {
     "data": {
      "text/plain": [
       "0"
      ]
     },
     "execution_count": 48,
     "metadata": {},
     "output_type": "execute_result"
    }
   ],
   "source": [
    "random.randint(0, 1)"
   ]
  },
  {
   "cell_type": "code",
   "execution_count": 49,
   "id": "9b4bab59",
   "metadata": {},
   "outputs": [],
   "source": [
    "def Accept_val(delta,temp):\n",
    "    if(delta<0):\n",
    "        return True\n",
    "    elif(random.random() < math.exp(-delta / temp)):\n",
    "        return True\n",
    "    else:\n",
    "        return False"
   ]
  },
  {
   "cell_type": "code",
   "execution_count": 88,
   "id": "92857361",
   "metadata": {},
   "outputs": [],
   "source": [
    "def sim_anneal(initial_sol=None,Temp=300,cooling_rate=0.95,max_iter=1000,arr=random_graph):\n",
    "    par1 = [i for i in range(int(len(arr)/2))]\n",
    "    par2 = [i+par1[-1] for i in range(len(arr)-len(par1))]\n",
    "    initial_sol1 = par1\n",
    "    initial_sol2 = par2\n",
    "    current_sol1 = initial_sol1\n",
    "    current_sol2 = initial_sol2\n",
    "    current_energy = f(current_sol1,current_sol2,arr)\n",
    "    best_sol1 = current_sol1\n",
    "    best_sol2 = current_sol2\n",
    "    best_energy = current_energy\n",
    "    best_store = [[best_energy,0]]\n",
    "    for i in range(max_iter):\n",
    "        new_sol1 = current_sol1\n",
    "        new_sol2 = current_sol2\n",
    "        idx_1 = random.randint(0, 1)\n",
    "        if(idx_1 == 0 and len(new_sol1)>=1):\n",
    "            idx_2 = random.randint(0, len(new_sol1)-1)\n",
    "            move_ele = new_sol1.pop(idx_2)\n",
    "            new_sol2.append(move_ele)\n",
    "        if(idx_1 == 1 and len(new_sol2)>=1):\n",
    "            idx_2 = random.randint(0, len(new_sol2)-1)\n",
    "            move_ele = new_sol2.pop(idx_2)\n",
    "            new_sol1.append(move_ele)    \n",
    "        new_energy = f(new_sol1,new_sol2,arr)\n",
    "        del_energy = new_energy - current_energy\n",
    "        if(Accept_val(delta=del_energy,temp=Temp)):\n",
    "            current_sol1 = new_sol1\n",
    "            current_sol2 = new_sol2\n",
    "            current_energy = new_energy\n",
    "            if(current_energy<best_energy):\n",
    "                best_sol1 = current_sol1\n",
    "                best_sol2 = current_sol2\n",
    "                print(best_sol1,best_sol2)\n",
    "                best_energy = current_energy\n",
    "                best_store += [[best_energy,i]]\n",
    "        Temp *= cooling_rate\n",
    "    \n",
    "    return best_energy,best_sol,best_store"
   ]
  },
  {
   "cell_type": "code",
   "execution_count": 89,
   "id": "6cdff4cc",
   "metadata": {},
   "outputs": [
    {
     "name": "stdout",
     "output_type": "stream",
     "text": [
      "[10, 7, 13, 8, 5, 4, 2, 6] [11, 14, 3, 0, 1, 9, 7, 12]\n",
      "[3, 8, 13, 6, 4, 2, 0, 5] [7, 10, 1, 12, 14, 9, 11, 7]\n",
      "[6, 4, 2, 9, 1, 7, 10, 7] [12, 14, 11, 0, 5, 13, 3, 8]\n",
      "[2, 11, 1, 14, 7, 7, 6, 4] [10, 12, 5, 9, 3, 0, 8, 13]\n",
      "[11, 6, 7, 9, 2, 4, 10, 7] [3, 5, 0, 8, 1, 13, 12, 14]\n"
     ]
    },
    {
     "data": {
      "image/png": "[encoded data removed]",
      "text/plain": [
       "<Figure size 640x480 with 1 Axes>"
      ]
     },
     "metadata": {},
     "output_type": "display_data"
    }
   ],
   "source": [
    "fun_val,best_sol,data=sim_anneal(Temp=16000,cooling_rate=0.99,max_iter=50000)\n",
    "x = [row[1] for row in data]\n",
    "y = [row[0] for row in data]\n",
    "plt.plot(x,y)\n",
    "plt.show()"
   ]
  },
  {
   "cell_type": "code",
   "execution_count": 41,
   "id": "b4dc085d",
   "metadata": {},
   "outputs": [
    {
     "data": {
      "text/plain": [
       "[3.712763679940511, 6.04939448920111]"
      ]
     },
     "execution_count": 41,
     "metadata": {},
     "output_type": "execute_result"
    }
   ],
   "source": [
    "best_sol"
   ]
  },
  {
   "cell_type": "code",
   "execution_count": 44,
   "id": "417768ca",
   "metadata": {},
   "outputs": [
    {
     "data": {
      "text/plain": [
       "9.762158169141621"
      ]
     },
     "execution_count": 44,
     "metadata": {},
     "output_type": "execute_result"
    }
   ],
   "source": [
    "abs(best_sol[0])+abs(best_sol[1])"
   ]
  },
  {
   "cell_type": "code",
   "execution_count": 30,
   "id": "32b0d422",
   "metadata": {},
   "outputs": [
    {
     "name": "stdout",
     "output_type": "stream",
     "text": [
      "-0.9969999999697549\n",
      "-0.32456273942461183\n",
      "-0.9955535491381788\n"
     ]
    }
   ],
   "source": [
    "val_store = []\n",
    "for i in range(500):\n",
    "    fun_val,_,_ = sim_anneal(Temp=300,cooling_rate=0.99,max_iter=5000)\n",
    "    val_store += [fun_val] \n",
    "print(min(val_store))\n",
    "print(max(val_store))\n",
    "print(sum(val_store)/len(val_store))"
   ]
  },
  {
   "cell_type": "code",
   "execution_count": 31,
   "id": "f15e3c22",
   "metadata": {},
   "outputs": [],
   "source": [
    "X = [[random.uniform(-3, 3) for _ in range(2)] for _ in range(1000)]\n",
    "Y = [0] * len(X)"
   ]
  },
  {
   "cell_type": "code",
   "execution_count": 32,
   "id": "b872dfec",
   "metadata": {},
   "outputs": [],
   "source": [
    "param_space = {\n",
    "    'Temp': Real(1e-6, 1e3, prior='log-uniform'),\n",
    "    'cooling_rate': Real(0.5, 0.99),\n",
    "    'max_iter': Integer(10, 1000)\n",
    "}"
   ]
  },
  {
   "cell_type": "code",
   "execution_count": 85,
   "id": "0615c70b",
   "metadata": {},
   "outputs": [
    {
     "name": "stdout",
     "output_type": "stream",
     "text": [
      "[0, 1, 0, 0, 1, 0, 1, 0, 1, 0, 0, 0, 1, 1, 0, 1]\n",
      "[1, 0, 0, 0, 1, 1, 0, 0, 1, 1, 1, 1, 1, 0, 1, 1]\n",
      "[0, 0, 0, 0, 0, 0, 0, 1, 1, 1, 1, 0, 0, 0, 1, 1]\n",
      "[0, 0, 0, 0, 0, 1, 1, 1, 0, 0, 0, 1, 1, 1, 1, 1]\n",
      "[1, 1, 0, 0, 0, 0, 0, 0, 0, 1, 1, 1, 0, 0, 0, 0]\n",
      "[0, 1, 0, 1, 0, 0, 1, 1, 1, 0, 1, 0, 1, 1, 1, 1]\n",
      "[1, 0, 0, 1, 0, 1, 0, 1, 0, 1, 0, 1, 1, 1, 0, 1]\n",
      "[0, 0, 1, 1, 0, 1, 1, 0, 0, 1, 0, 0, 1, 0, 0, 1]\n",
      "[1, 1, 1, 0, 0, 1, 0, 0, 0, 1, 0, 1, 0, 1, 0, 0]\n",
      "[0, 1, 1, 0, 1, 0, 1, 1, 1, 0, 1, 0, 0, 0, 0, 0]\n",
      "[0, 1, 1, 0, 1, 1, 0, 0, 0, 1, 0, 1, 1, 1, 1, 1]\n",
      "[0, 1, 0, 1, 1, 0, 1, 0, 1, 0, 1, 0, 0, 1, 0, 0]\n",
      "[1, 1, 0, 1, 0, 1, 1, 1, 0, 0, 1, 0, 0, 0, 1, 0]\n",
      "[1, 0, 0, 1, 0, 1, 1, 0, 1, 0, 1, 1, 0, 0, 0, 0]\n",
      "[0, 1, 1, 1, 0, 1, 0, 0, 0, 0, 1, 0, 1, 0, 0, 1]\n",
      "[1, 1, 1, 1, 0, 1, 1, 1, 0, 0, 1, 0, 0, 0, 1, 0]\n"
     ]
    }
   ],
   "source": [
    "import random\n",
    "\n",
    "def generate_random_graph(num_vertices):\n",
    "    # Initialize an empty adjacency matrix filled with zeros\n",
    "    adjacency_matrix = [[0] * num_vertices for _ in range(num_vertices)]\n",
    "\n",
    "    # Populate the upper triangular part of the matrix with random values (since it's an undirected graph)\n",
    "    for i in range(num_vertices):\n",
    "        for j in range(i + 1, num_vertices):\n",
    "            # Generate a random value (0 or 1) to represent the existence of an edge\n",
    "            edge_exists = random.choice([0, 1])\n",
    "            \n",
    "            # Set the values in both symmetric positions in the matrix\n",
    "            adjacency_matrix[i][j] = edge_exists\n",
    "            adjacency_matrix[j][i] = edge_exists\n",
    "\n",
    "    return adjacency_matrix\n",
    "\n",
    "# Set the number of vertices\n",
    "num_vertices = 16\n",
    "\n",
    "# Generate a random graph adjacency matrix with 16 vertices\n",
    "random_graph = generate_random_graph(num_vertices)\n",
    "\n",
    "# Print the generated adjacency matrix\n",
    "for row in random_graph:\n",
    "    print(row)\n"
   ]
  },
  {
   "cell_type": "code",
   "execution_count": null,
   "id": "463e3be4",
   "metadata": {},
   "outputs": [],
   "source": []
  }
 ],
 "metadata": {
  "kernelspec": {
   "display_name": "Python 3 (ipykernel)",
   "language": "python",
   "name": "python3"
  },
  "language_info": {
   "codemirror_mode": {
    "name": "ipython",
    "version": 3
   },
   "file_extension": ".py",
   "mimetype": "text/x-python",
   "name": "python",
   "nbconvert_exporter": "python",
   "pygments_lexer": "ipython3",
   "version": "3.8.8"
  }
 },
 "nbformat": 4,
 "nbformat_minor": 5
}
